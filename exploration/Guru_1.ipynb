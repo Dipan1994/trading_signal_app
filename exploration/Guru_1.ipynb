{
 "cells": [
  {
   "cell_type": "code",
   "execution_count": 2,
   "id": "81c15be5",
   "metadata": {},
   "outputs": [],
   "source": [
    "import sys\n",
    "sys.path.append(\"../\")"
   ]
  },
  {
   "cell_type": "code",
   "execution_count": 3,
   "id": "7435b035",
   "metadata": {},
   "outputs": [],
   "source": [
    "import pandas as pd\n",
    "import plotly.graph_objects as go\n",
    "from technicals.indicators import RSI\n",
    "from technicals.patterns import apply_patterns\n",
    "from plotting import  CandlePlot\n",
    "from dateutil import parser\n",
    "import datetime as dt"
   ]
  },
  {
   "cell_type": "code",
   "execution_count": 4,
   "id": "b848286e",
   "metadata": {},
   "outputs": [],
   "source": [
    "df_raw = pd.read_pickle(\"../data/EUR_USD_H1.pkl\")"
   ]
  },
  {
   "cell_type": "code",
   "execution_count": 5,
   "id": "a7bd563a",
   "metadata": {},
   "outputs": [],
   "source": [
    "df_an = df_raw.copy()#iloc[-6000:].copy()\n",
    "df_an.reset_index(drop=True,inplace=True)"
   ]
  },
  {
   "cell_type": "code",
   "execution_count": 6,
   "id": "9128a104",
   "metadata": {},
   "outputs": [],
   "source": [
    "df_an = RSI(df_an)"
   ]
  },
  {
   "cell_type": "code",
   "execution_count": 7,
   "id": "b33c13ae",
   "metadata": {},
   "outputs": [],
   "source": [
    "df_an = apply_patterns(df_an)"
   ]
  },
  {
   "cell_type": "code",
   "execution_count": 8,
   "id": "a8a7141e",
   "metadata": {},
   "outputs": [],
   "source": [
    "df_an['EMA_200'] = df_an.mid_c.ewm(span=200,min_periods =200).mean()"
   ]
  },
  {
   "cell_type": "code",
   "execution_count": 9,
   "id": "64d12590",
   "metadata": {},
   "outputs": [],
   "source": [
    "our_cols = ['time','mid_o','mid_l','mid_h','mid_c',\n",
    "            'ask_o','ask_l','ask_h','ask_c',\n",
    "            'bid_o','bid_l','bid_h','bid_c',\n",
    "            'ENGULFING','direction','EMA_200','RSI_14']\n",
    "df_slim = df_an[our_cols].copy()\n",
    "df_slim.dropna(inplace=True)\n",
    "df_slim.reset_index(drop=True,inplace=True)"
   ]
  },
  {
   "cell_type": "code",
   "execution_count": 10,
   "id": "661dd519",
   "metadata": {},
   "outputs": [],
   "source": [
    "BUY = 1\n",
    "SELL = -1\n",
    "NONE = 0\n",
    "RSI_LIMIT = 50.0\n",
    "\n",
    "def apply_signal(row):\n",
    "    if row.ENGULFING == True:\n",
    "        if row.direction==BUY and row.mid_l>row.EMA_200:\n",
    "            if row.RSI_14>RSI_LIMIT:\n",
    "                return BUY\n",
    "        if row.direction==SELL and row.mid_h<row.EMA_200:\n",
    "            if row.RSI_14>RSI_LIMIT:\n",
    "                return SELL\n",
    "    return NONE    \n",
    "                "
   ]
  },
  {
   "cell_type": "code",
   "execution_count": 11,
   "id": "000d3109",
   "metadata": {},
   "outputs": [],
   "source": [
    "df_slim['SIGNAL'] = df_slim.apply(apply_signal,axis = 1)"
   ]
  },
  {
   "cell_type": "code",
   "execution_count": 12,
   "id": "522eb684",
   "metadata": {},
   "outputs": [],
   "source": [
    "LOSS_FACTOR = -1.0\n",
    "PROFIT_FACTOR = 1.5\n",
    "\n",
    "def apply_take_profit(row):\n",
    "    if row.SIGNAL!=NONE:\n",
    "        if row.SIGNAL == BUY:\n",
    "            return (row.ask_c - row.ask_o)*PROFIT_FACTOR + row.ask_c\n",
    "        else:\n",
    "            return (row.bid_c - row.bid_o)*PROFIT_FACTOR + row.bid_c\n",
    "    else:\n",
    "        return 0.0\n",
    "\n",
    "def apply_stop_loss(row):\n",
    "    if row.SIGNAL != NONE:\n",
    "        if row.SIGNAL==Buy:\n",
    "            return row.ask_o\n",
    "        else:\n",
    "            return row.bid"
   ]
  },
  {
   "cell_type": "code",
   "execution_count": 17,
   "id": "91f78541",
   "metadata": {},
   "outputs": [],
   "source": [
    "LOSS_FACTOR = -1.0\n",
    "PROFIT_FACTOR = 1.5\n",
    "\n",
    "def apply_take_profit(row):\n",
    "    if row.SIGNAL!=NONE:\n",
    "        if row.SIGNAL == BUY:\n",
    "            return (row.ask_c - row.ask_o)*PROFIT_FACTOR + row.ask_c\n",
    "        else:\n",
    "            return (row.bid_c - row.bid_o)*PROFIT_FACTOR + row.bid_c\n",
    "    else:\n",
    "        return 0.0\n",
    "\n",
    "def apply_stop_loss(row):\n",
    "    if row.SIGNAL != NONE:\n",
    "        if row.SIGNAL==BUY:\n",
    "            return row.ask_o\n",
    "        else:\n",
    "            return row.bid_o\n",
    "    else:\n",
    "        return 0.0"
   ]
  },
  {
   "cell_type": "code",
   "execution_count": 18,
   "id": "e2879860",
   "metadata": {},
   "outputs": [],
   "source": [
    "df_slim['TP'] = df_slim.apply(apply_take_profit,axis = 1)\n",
    "df_slim['SL'] = df_slim.apply(apply_stop_loss,axis = 1)"
   ]
  },
  {
   "cell_type": "code",
   "execution_count": 19,
   "id": "90aa8d53",
   "metadata": {},
   "outputs": [],
   "source": [
    "class Trade:\n",
    "    \n",
    "    def __init__(self,row):\n",
    "        self.running=True\n",
    "        self.start_index = row.name\n",
    "        if row.SIGNAL==BUY:\n",
    "            self.start_price = row.ask_c\n",
    "            self.trigger_price = row.ask_c\n",
    "        else:\n",
    "            self.start_price = row.bid_c\n",
    "            self.trigger_price = row.bid_c\n",
    "        self.SIGNAL = row.SIGNAL\n",
    "        self.TP = row.TP\n",
    "        self.SL = row.SL \n",
    "        self.result = 0.0\n",
    "        self.end_time = row.time\n",
    "        self.start_time = row.time\n",
    "        self.duration = 0.0\n",
    "        \n",
    "    def close_trade(self,row,result,trigger_price):\n",
    "        self.running=False\n",
    "        self.result = result\n",
    "        self.end_time = row.time\n",
    "        self.trigger_price = trigger_price\n",
    "        \n",
    "    def update(self,row):\n",
    "        self.duration+=1\n",
    "        if self.SIGNAL==BUY:\n",
    "            if row.bid_h>=self.TP:\n",
    "                self.close_trade(row, PROFIT_FACTOR, row.bid_h)\n",
    "            if row.bid_l<=self.SL:\n",
    "                self.close_trade(row, LOSS_FACTOR, row.bid_l)\n",
    "        if self.SIGNAL==SELL:\n",
    "            if row.ask_l<=self.TP:\n",
    "                self.close_trade(row, PROFIT_FACTOR, row.ask_l)\n",
    "            if row.ask_h>=self.SL:\n",
    "                self.close_trade(row, LOSS_FACTOR, row.ask_h)"
   ]
  },
  {
   "cell_type": "code",
   "execution_count": 20,
   "id": "7b365d1f",
   "metadata": {},
   "outputs": [],
   "source": [
    "open_trades = []\n",
    "closed_trades = []\n",
    "\n",
    "for index, row in df_slim.iterrows():\n",
    "    for ot in open_trades:\n",
    "        ot.update(row)\n",
    "        if ot.running == False:\n",
    "            closed_trades.append(ot)\n",
    "    open_trades = [x for x in open_trades if x.running == True]\n",
    "    \n",
    "    if row.SIGNAL != NONE:\n",
    "        open_trades.append(Trade(row))"
   ]
  },
  {
   "cell_type": "code",
   "execution_count": 21,
   "id": "113c919a",
   "metadata": {},
   "outputs": [],
   "source": [
    "df_results = pd.DataFrame.from_dict([vars(x) for x in closed_trades])"
   ]
  },
  {
   "cell_type": "code",
   "execution_count": 22,
   "id": "e585c353",
   "metadata": {},
   "outputs": [
    {
     "data": {
      "text/plain": [
       "-750.0"
      ]
     },
     "execution_count": 22,
     "metadata": {},
     "output_type": "execute_result"
    }
   ],
   "source": [
    "df_results.result.sum()"
   ]
  },
  {
   "cell_type": "code",
   "execution_count": null,
   "id": "c2e73af9",
   "metadata": {},
   "outputs": [],
   "source": [
    "df_m5 = pd.read_pickle(\"../data/EUR_USD_M5.pkl\")\n",
    "df_m5_slim = df_m5[['time','bid_h','bid_l','ask_h','ask_l']].copy()"
   ]
  },
  {
   "cell_type": "code",
   "execution_count": null,
   "id": "be7dbfd7",
   "metadata": {},
   "outputs": [],
   "source": [
    "df_signals = df_slim[df_slim.SIGNAL!=NONE].copy()"
   ]
  },
  {
   "cell_type": "code",
   "execution_count": null,
   "id": "996d9346",
   "metadata": {},
   "outputs": [],
   "source": [
    "df_signals['m5_start'] = [x+dt.timedelta(hours=1) for x in df_signals.time]\n",
    "df_signals['start_index_h1'] = df_signals.index\n",
    "df_signals.drop(['time','mid_o','mid_h','mid_l','ask_c','bid_c','ENGULFING','RSI_14',\n",
    "                 'EMA_200','direction'],axis = 1,inplace = True)"
   ]
  },
  {
   "cell_type": "code",
   "execution_count": null,
   "id": "b05cc4e1",
   "metadata": {},
   "outputs": [],
   "source": [
    "df_signals.rename(columns = {\n",
    "    'bid_c':'start_price_BUY',\n",
    "    'ask_c':'start_price_SELL',\n",
    "    'm5_start':'time'\n",
    "}, inplace=True)"
   ]
  },
  {
   "cell_type": "code",
   "execution_count": null,
   "id": "5a7c1177",
   "metadata": {},
   "outputs": [],
   "source": [
    "merged = pd.merge(left = df_m5_slim, right = df_signals, on = 'time', how = 'left')"
   ]
  },
  {
   "cell_type": "code",
   "execution_count": null,
   "id": "f3de831a",
   "metadata": {},
   "outputs": [],
   "source": [
    "merged.fillna(0, inplace = True)"
   ]
  },
  {
   "cell_type": "code",
   "execution_count": null,
   "id": "44763feb",
   "metadata": {},
   "outputs": [],
   "source": [
    "merged.SIGNAL = merged.SIGNAL.astype(int)\n",
    "merged.start_index_h1 = merged.start_index_h1.astype(int)"
   ]
  },
  {
   "cell_type": "code",
   "execution_count": null,
   "id": "8a832cf8",
   "metadata": {},
   "outputs": [],
   "source": [
    "class TradeM5:\n",
    "    \n",
    "    def __init__(self,row):\n",
    "        self.running=True\n",
    "        self.start_index_m5 = row.name\n",
    "        self.start_index_h1 = row.start_index_h1\n",
    "        if row.SIGNAL==BUY:\n",
    "            self.start_price = row.start_price_BUY\n",
    "            self.trigger_price = row.start_price_BUY\n",
    "        else:\n",
    "            self.start_price = row.start_price_SELL\n",
    "            self.trigger_price = row.start_price_SELL\n",
    "        self.SIGNAL = row.SIGNAL\n",
    "        self.TP = row.TP\n",
    "        self.SL = row.SL \n",
    "        self.result = 0.0\n",
    "        self.end_time = row.time\n",
    "        self.start_time = row.time\n",
    "        self.duration = 0.0\n",
    "        \n",
    "    def close_trade(self,row,result,trigger_price):\n",
    "        self.running=False\n",
    "        self.result = result\n",
    "        self.end_time = row.time\n",
    "        self.trigger_price = trigger_price\n",
    "        \n",
    "    def update(self,row):\n",
    "        self.duration+=1\n",
    "        if self.SIGNAL==BUY:\n",
    "            if row.bid_h>=self.TP:\n",
    "                self.close_trade(row, PROFIT_FACTOR, row.mbd_h)\n",
    "            if row.bid_l<=self.SL:\n",
    "                self.close_trade(row, LOSS_FACTOR, row.bid_l)\n",
    "        if self.SIGNAL==SELL:\n",
    "            if row.ask_l<=self.TP:\n",
    "                self.close_trade(row, PROFIT_FACTOR, row.ask_l)\n",
    "            if row.ask_h>=self.SL:\n",
    "                self.close_trade(row, LOSS_FACTOR, row.ask_h)"
   ]
  },
  {
   "cell_type": "code",
   "execution_count": null,
   "id": "3890f5ce",
   "metadata": {},
   "outputs": [],
   "source": [
    "open_trades_m5 = []\n",
    "closed_trades_m5 = []\n",
    "\n",
    "for index, row in merged.iterrows():\n",
    "    \n",
    "    if row.SIGNAL != NONE:\n",
    "        open_trades_m5.append(TradeM5(row))\n",
    "        \n",
    "    for ot in open_trades_m5:\n",
    "        ot.update(row)\n",
    "        if ot.running == False:\n",
    "            closed_trades_m5.append(ot)\n",
    "    open_trades = [x for x in open_trades_m5 if x.running == True]\n",
    "    \n",
    "    "
   ]
  },
  {
   "cell_type": "code",
   "execution_count": null,
   "id": "7d0b70ef",
   "metadata": {},
   "outputs": [],
   "source": [
    "df_res_m5 = pd.DataFrame.from_dict([vars(x) for x in closed_trades_m5])\n",
    "df_res_m5.result.sum()"
   ]
  }
 ],
 "metadata": {
  "kernelspec": {
   "display_name": "Python 3 (ipykernel)",
   "language": "python",
   "name": "python3"
  },
  "language_info": {
   "codemirror_mode": {
    "name": "ipython",
    "version": 3
   },
   "file_extension": ".py",
   "mimetype": "text/x-python",
   "name": "python",
   "nbconvert_exporter": "python",
   "pygments_lexer": "ipython3",
   "version": "3.11.1"
  }
 },
 "nbformat": 4,
 "nbformat_minor": 5
}
