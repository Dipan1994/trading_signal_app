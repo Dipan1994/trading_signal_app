{
 "cells": [
  {
   "cell_type": "code",
   "execution_count": null,
   "id": "a768904b",
   "metadata": {},
   "outputs": [],
   "source": [
    "import sys\n",
    "sys.path.append(\"../\")\n",
    "from plotting import CandlePlot\n",
    "import pandas as pd\n",
    "import technicals.pattern import apply_pattern"
   ]
  },
  {
   "cell_type": "code",
   "execution_count": null,
   "id": "a54da0b9",
   "metadata": {},
   "outputs": [],
   "source": [
    "df = pd.read_pickle(\"../data/GBP_JPY_H1.pkl\")"
   ]
  },
  {
   "cell_type": "code",
   "execution_count": null,
   "id": "8e835b74",
   "metadata": {},
   "outputs": [],
   "source": [
    "df_an = df[['time','mid_o','mid_h','mid_l','mid_c']].copy()"
   ]
  },
  {
   "cell_type": "code",
   "execution_count": null,
   "id": "6f02427d",
   "metadata": {},
   "outputs": [],
   "source": [
    "direction = df_an.mid_c - df_an.mid_o\n",
    "body_size = abs(direction)\n",
    "direction = [1 if x>=0 else -1 for x in direction]\n",
    "full_range = df_an.mid_h - df_an.mid_l\n",
    "body_perc = (body_size/full_range) * 100\n",
    "body_lower = df_an[['mid_c','mid_o']].min(axis=1)\n",
    "body_upper = df_an[['mid_c','mid_o']].max(axis=1)\n",
    "body_bottom_perc = (body_lower - df_an.mid_l)/full_range * 100\n",
    "body_top_perc = (df_an.mid_h - body_upper)/full_range * 100\n",
    "\n"
   ]
  },
  {
   "cell_type": "code",
   "execution_count": null,
   "id": "f227bfff",
   "metadata": {},
   "outputs": [],
   "source": [
    "df_an = apply_patterns(df_an)"
   ]
  },
  {
   "cell_type": "code",
   "execution_count": null,
   "id": "f558153d",
   "metadata": {},
   "outputs": [],
   "source": [
    "HANGING_MAN_BODY = 15.0\n",
    "HANGING_MAN_HEIGHT = 75.0\n",
    "SHOOTING_STAR_HEIGHT = 25.0\n",
    "SPINNING_TOP_MIN = 40\n",
    "SPINNING_TOP_MAX = 60\n",
    "MARUBOZU = 98.0\n",
    "ENGULFING_FACTOR = 1.1\n",
    "\n",
    "def apply_hanging_man(row):\n",
    "    if row.body_bottom_perc > HANGING_MAN_HEIGHT:\n",
    "        if row.body_perc <HANGING_MAN_BODY:\n",
    "            return True\n",
    "    return False  \n",
    "    \n",
    "def apply_shooting_star(row):\n",
    "    if row.body_bottom_perc < SHOOTING_STAR_HEIGHT:\n",
    "        if row.body_perc <HANGING_MAN_BODY:\n",
    "            return True\n",
    "    return False  \n",
    "    \n",
    "def apply_spinning_top(row):\n",
    "    if row.body_bottom_perc < SPINNING_TOP_MAX:\n",
    "        if row.body_bottom_perc > SPINNING_TOP_MIN:\n",
    "            return True\n",
    "    return False  \n",
    "    \n",
    "apply_marubozu = lambda x:x.body_perc>MARUBOZU\n",
    "\n",
    "def apply_engulfing(row):\n",
    "    if row.direction !=row.direction_prev:\n",
    "        if row.body_size > row.body_size_prev * ENGULFING_FACTOR:\n",
    "            return True\n",
    "    return False\n",
    "    \n",
    "TWEEZER_BODY = 15.0\n",
    "TWEEZER_HL = 0.01\n",
    "TWEEZER_TOP_BODY = 40.0\n",
    "TWEEZER_BOTTOM_BODY = 60.0\n",
    "\n",
    "def apply_tweezer_top(row):\n",
    "    if abs(row.body_size_change)<TWEEZER_BODY:\n",
    "        if row.direction = -1 and row.direction!=row.direction_prev:\n",
    "            if abs(row.low_change)<TWEEZER_HL and abs(row.high_change)<TWEEZER_HL:\n",
    "                if row.body_top_perc<TWEEZER_TOP_BODY:\n",
    "                    return True\n",
    "    return False\n",
    "    \n",
    "def apply_tweezer_bottom(row):\n",
    "    if abs(row.body_size_change)<TWEEZER_BODY:\n",
    "        if row.direction = 1 and row.direction!=row.direction_prev:\n",
    "            if abs(row.low_change)<TWEEZER_HL and abs(row.high_change)<TWEEZER_HL:\n",
    "                if row.body_bottom_perc>TWEEZER_BOTTOM_BODY:\n",
    "                    return True\n",
    "    return False\n",
    "    \n",
    "MORNING_STAR_PREV2_BODY = 90.0\n",
    "MORNING_STAR_PREV_BODY = 10.0\n",
    "\n",
    "def apply_morning_star(row,direction=1):\n",
    "    if row.body_perc_prev_2>MORNING_STAR_PREV2_BODY:\n",
    "        if row.body_perc_prev<MORNING_STAR_PREV_BODY:\n",
    "            if row.direction==direction and row.direction_prev_2 != direction:\n",
    "                if direction==1:\n",
    "                    if row.mid_c > row.mid_point_prev_2:\n",
    "                        return True\n",
    "                else:\n",
    "                    if row.mid_c < row.mid_point_prev_2:\n",
    "                        return True\n",
    "                        \n",
    "    return False                    \n"
   ]
  },
  {
   "cell_type": "code",
   "execution_count": null,
   "id": "07a3e391",
   "metadata": {},
   "outputs": [],
   "source": [
    "df_an['HANGING_MAN'] = df_an.apply(apply_hanging_man, axis =1)\n",
    "df_an['SHOOTING_STAR'] = df_an.apply(apply_shooting_star, axis =1)\n",
    "df_an['SPINNING_TOP'] = df_an.apply(apply_spinning_top, axis =1)\n",
    "df_an['MARUBOZU'] = df_an.apply(apply_marubozu, axis =1)\n",
    "df_an['body_size_prev'] = df_an.body_size.shift(1)\n",
    "df_an['direction_prev'] = df_an.direction.shift(1)\n",
    "df_an['direction_prev_2'] = df_an.direction.shift(2)\n",
    "df_an['body_perc_prev'] = df_an.body_perc.shift(2)\n",
    "df_an['body_perc_prev_2'] = df_an.body_perc.shift(2)\n",
    "df_an['ENGULFING'] = df_an.apply(apply_engulfing, axis =1)\n",
    "df_an['TWEEZER_TOP'] = df_an.apply(apply_tweezer_top, axis =1)\n",
    "df_an['TWEEZER_BOTTOM'] = df_an.apply(apply_tweezer_bottom, axis =1)\n",
    "df_an['MORNING_STAR'] = df_an.apply(apply_morning_star, axis =1)\n",
    "df_an['EVENING_STAR'] = df_an.apply(apply_morning_star, axis =1,direction=-1)"
   ]
  }
 ],
 "metadata": {
  "kernelspec": {
   "display_name": "Python 3 (ipykernel)",
   "language": "python",
   "name": "python3"
  }
 },
 "nbformat": 4,
 "nbformat_minor": 5
}
